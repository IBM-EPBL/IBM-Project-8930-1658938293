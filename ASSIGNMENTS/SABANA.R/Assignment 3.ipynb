{
 "cells": [
  {
   "cell_type": "markdown",
   "id": "5074ed0f",
   "metadata": {},
   "source": [
    "<h2>1.IMPORTING THE REQUIRED PACKAGES</h2>"
   ]
  },
  {
   "cell_type": "code",
   "execution_count": 91,
   "id": "8f88f9f0",
   "metadata": {},
   "outputs": [
    {
     "name": "stderr",
     "output_type": "stream",
     "text": [
      "D:\\anaconda\\lib\\site-packages\\xgboost\\compat.py:36: FutureWarning: pandas.Int64Index is deprecated and will be removed from pandas in a future version. Use pandas.Index with the appropriate dtype instead.\n",
      "  from pandas import MultiIndex, Int64Index\n"
     ]
    }
   ],
   "source": [
    "import pandas as pd\n",
    "import numpy as np\n",
    "from scipy import stats\n",
    "import matplotlib.pyplot as plt\n",
    "import seaborn as sns\n",
    "import statsmodels.api as sm\n",
    "from sklearn.model_selection import train_test_split\n",
    "from sklearn.linear_model import LinearRegression\n",
    "from sklearn.ensemble import GradientBoostingRegressor\n",
    "from sklearn.ensemble import RandomForestRegressor\n",
    "from sklearn.tree import DecisionTreeRegressor\n",
    "from sklearn.ensemble import AdaBoostRegressor\n",
    "from xgboost.sklearn import XGBRegressor\n",
    "from sklearn.metrics import mean_squared_error\n",
    "from sklearn.metrics import accuracy_score"
   ]
  },
  {
   "cell_type": "markdown",
   "id": "bcbfc5df",
   "metadata": {},
   "source": [
    "<h2>2.Loading the dataset.</h2>"
   ]
  },
  {
   "cell_type": "code",
   "execution_count": 57,
   "id": "56b44f73",
   "metadata": {},
   "outputs": [],
   "source": [
    "data=pd.read_csv(\"C:/Users/Jothy Natarajan/Downloads/abalone.csv\")"
   ]
  },
  {
   "cell_type": "code",
   "execution_count": 58,
   "id": "765cb40a",
   "metadata": {},
   "outputs": [
    {
     "data": {
      "text/html": [
       "<div>\n",
       "<style scoped>\n",
       "    .dataframe tbody tr th:only-of-type {\n",
       "        vertical-align: middle;\n",
       "    }\n",
       "\n",
       "    .dataframe tbody tr th {\n",
       "        vertical-align: top;\n",
       "    }\n",
       "\n",
       "    .dataframe thead th {\n",
       "        text-align: right;\n",
       "    }\n",
       "</style>\n",
       "<table border=\"1\" class=\"dataframe\">\n",
       "  <thead>\n",
       "    <tr style=\"text-align: right;\">\n",
       "      <th></th>\n",
       "      <th>Sex</th>\n",
       "      <th>Length</th>\n",
       "      <th>Diameter</th>\n",
       "      <th>Height</th>\n",
       "      <th>Whole weight</th>\n",
       "      <th>Shucked weight</th>\n",
       "      <th>Viscera weight</th>\n",
       "      <th>Shell weight</th>\n",
       "      <th>Rings</th>\n",
       "    </tr>\n",
       "  </thead>\n",
       "  <tbody>\n",
       "    <tr>\n",
       "      <th>0</th>\n",
       "      <td>M</td>\n",
       "      <td>0.455</td>\n",
       "      <td>0.365</td>\n",
       "      <td>0.095</td>\n",
       "      <td>0.5140</td>\n",
       "      <td>0.2245</td>\n",
       "      <td>0.1010</td>\n",
       "      <td>0.150</td>\n",
       "      <td>15</td>\n",
       "    </tr>\n",
       "    <tr>\n",
       "      <th>1</th>\n",
       "      <td>M</td>\n",
       "      <td>0.350</td>\n",
       "      <td>0.265</td>\n",
       "      <td>0.090</td>\n",
       "      <td>0.2255</td>\n",
       "      <td>0.0995</td>\n",
       "      <td>0.0485</td>\n",
       "      <td>0.070</td>\n",
       "      <td>7</td>\n",
       "    </tr>\n",
       "    <tr>\n",
       "      <th>2</th>\n",
       "      <td>F</td>\n",
       "      <td>0.530</td>\n",
       "      <td>0.420</td>\n",
       "      <td>0.135</td>\n",
       "      <td>0.6770</td>\n",
       "      <td>0.2565</td>\n",
       "      <td>0.1415</td>\n",
       "      <td>0.210</td>\n",
       "      <td>9</td>\n",
       "    </tr>\n",
       "    <tr>\n",
       "      <th>3</th>\n",
       "      <td>M</td>\n",
       "      <td>0.440</td>\n",
       "      <td>0.365</td>\n",
       "      <td>0.125</td>\n",
       "      <td>0.5160</td>\n",
       "      <td>0.2155</td>\n",
       "      <td>0.1140</td>\n",
       "      <td>0.155</td>\n",
       "      <td>10</td>\n",
       "    </tr>\n",
       "    <tr>\n",
       "      <th>4</th>\n",
       "      <td>I</td>\n",
       "      <td>0.330</td>\n",
       "      <td>0.255</td>\n",
       "      <td>0.080</td>\n",
       "      <td>0.2050</td>\n",
       "      <td>0.0895</td>\n",
       "      <td>0.0395</td>\n",
       "      <td>0.055</td>\n",
       "      <td>7</td>\n",
       "    </tr>\n",
       "    <tr>\n",
       "      <th>5</th>\n",
       "      <td>I</td>\n",
       "      <td>0.425</td>\n",
       "      <td>0.300</td>\n",
       "      <td>0.095</td>\n",
       "      <td>0.3515</td>\n",
       "      <td>0.1410</td>\n",
       "      <td>0.0775</td>\n",
       "      <td>0.120</td>\n",
       "      <td>8</td>\n",
       "    </tr>\n",
       "    <tr>\n",
       "      <th>6</th>\n",
       "      <td>F</td>\n",
       "      <td>0.530</td>\n",
       "      <td>0.415</td>\n",
       "      <td>0.150</td>\n",
       "      <td>0.7775</td>\n",
       "      <td>0.2370</td>\n",
       "      <td>0.1415</td>\n",
       "      <td>0.330</td>\n",
       "      <td>20</td>\n",
       "    </tr>\n",
       "    <tr>\n",
       "      <th>7</th>\n",
       "      <td>F</td>\n",
       "      <td>0.545</td>\n",
       "      <td>0.425</td>\n",
       "      <td>0.125</td>\n",
       "      <td>0.7680</td>\n",
       "      <td>0.2940</td>\n",
       "      <td>0.1495</td>\n",
       "      <td>0.260</td>\n",
       "      <td>16</td>\n",
       "    </tr>\n",
       "    <tr>\n",
       "      <th>8</th>\n",
       "      <td>M</td>\n",
       "      <td>0.475</td>\n",
       "      <td>0.370</td>\n",
       "      <td>0.125</td>\n",
       "      <td>0.5095</td>\n",
       "      <td>0.2165</td>\n",
       "      <td>0.1125</td>\n",
       "      <td>0.165</td>\n",
       "      <td>9</td>\n",
       "    </tr>\n",
       "    <tr>\n",
       "      <th>9</th>\n",
       "      <td>F</td>\n",
       "      <td>0.550</td>\n",
       "      <td>0.440</td>\n",
       "      <td>0.150</td>\n",
       "      <td>0.8945</td>\n",
       "      <td>0.3145</td>\n",
       "      <td>0.1510</td>\n",
       "      <td>0.320</td>\n",
       "      <td>19</td>\n",
       "    </tr>\n",
       "  </tbody>\n",
       "</table>\n",
       "</div>"
      ],
      "text/plain": [
       "  Sex  Length  Diameter  Height  Whole weight  Shucked weight  Viscera weight  \\\n",
       "0   M   0.455     0.365   0.095        0.5140          0.2245          0.1010   \n",
       "1   M   0.350     0.265   0.090        0.2255          0.0995          0.0485   \n",
       "2   F   0.530     0.420   0.135        0.6770          0.2565          0.1415   \n",
       "3   M   0.440     0.365   0.125        0.5160          0.2155          0.1140   \n",
       "4   I   0.330     0.255   0.080        0.2050          0.0895          0.0395   \n",
       "5   I   0.425     0.300   0.095        0.3515          0.1410          0.0775   \n",
       "6   F   0.530     0.415   0.150        0.7775          0.2370          0.1415   \n",
       "7   F   0.545     0.425   0.125        0.7680          0.2940          0.1495   \n",
       "8   M   0.475     0.370   0.125        0.5095          0.2165          0.1125   \n",
       "9   F   0.550     0.440   0.150        0.8945          0.3145          0.1510   \n",
       "\n",
       "   Shell weight  Rings  \n",
       "0         0.150     15  \n",
       "1         0.070      7  \n",
       "2         0.210      9  \n",
       "3         0.155     10  \n",
       "4         0.055      7  \n",
       "5         0.120      8  \n",
       "6         0.330     20  \n",
       "7         0.260     16  \n",
       "8         0.165      9  \n",
       "9         0.320     19  "
      ]
     },
     "execution_count": 58,
     "metadata": {},
     "output_type": "execute_result"
    }
   ],
   "source": [
    "data.head(10)"
   ]
  },
  {
   "cell_type": "code",
   "execution_count": 59,
   "id": "ef678b01",
   "metadata": {},
   "outputs": [],
   "source": [
    "data.rename(columns={'Whole weight':'Whole_weight','Shucked weight':'Shucked_weight','Viscera weight':'Viscera_weight','Shell weight':'Shell_weight'}, inplace=True,)"
   ]
  },
  {
   "cell_type": "code",
   "execution_count": 60,
   "id": "cd8a1891",
   "metadata": {},
   "outputs": [
    {
     "name": "stdout",
     "output_type": "stream",
     "text": [
      "<class 'pandas.core.frame.DataFrame'>\n",
      "RangeIndex: 4177 entries, 0 to 4176\n",
      "Data columns (total 9 columns):\n",
      " #   Column          Non-Null Count  Dtype  \n",
      "---  ------          --------------  -----  \n",
      " 0   Sex             4177 non-null   object \n",
      " 1   Length          4177 non-null   float64\n",
      " 2   Diameter        4177 non-null   float64\n",
      " 3   Height          4177 non-null   float64\n",
      " 4   Whole_weight    4177 non-null   float64\n",
      " 5   Shucked_weight  4177 non-null   float64\n",
      " 6   Viscera_weight  4177 non-null   float64\n",
      " 7   Shell_weight    4177 non-null   float64\n",
      " 8   Rings           4177 non-null   int64  \n",
      "dtypes: float64(7), int64(1), object(1)\n",
      "memory usage: 293.8+ KB\n"
     ]
    }
   ],
   "source": [
    "data.info()"
   ]
  },
  {
   "cell_type": "markdown",
   "id": "db485d92",
   "metadata": {},
   "source": [
    "<h2>3.Data Visualizations.</h2>"
   ]
  },
  {
   "cell_type": "code",
   "execution_count": 61,
   "id": "bce2705b",
   "metadata": {},
   "outputs": [
    {
     "data": {
      "text/plain": [
       "<AxesSubplot:xlabel='Sex', ylabel='count'>"
      ]
     },
     "execution_count": 61,
     "metadata": {},
     "output_type": "execute_result"
    },
    {
     "data": {
      "image/png": "[encoded data removed]",
      "text/plain": [
       "<Figure size 432x288 with 1 Axes>"
      ]
     },
     "metadata": {
      "needs_background": "light"
     },
     "output_type": "display_data"
    }
   ],
   "source": [
    "sns.countplot(x=\"Sex\",data=data)"
   ]
  },
  {
   "cell_type": "code",
   "execution_count": 62,
   "id": "405bbebd",
   "metadata": {},
   "outputs": [
    {
     "data": {
      "text/plain": [
       "<AxesSubplot:>"
      ]
     },
     "execution_count": 62,
     "metadata": {},
     "output_type": "execute_result"
    },
    {
     "data": {
      "image/png": "[encoded data removed]",
      "text/plain": [
       "<Figure size 432x288 with 1 Axes>"
      ]
     },
     "metadata": {
      "needs_background": "light"
     },
     "output_type": "display_data"
    }
   ],
   "source": [
    "data.Length.hist()"
   ]
  },
  {
   "cell_type": "code",
   "execution_count": 63,
   "id": "a456cda4",
   "metadata": {},
   "outputs": [
    {
     "data": {
      "text/plain": [
       "<AxesSubplot:>"
      ]
     },
     "execution_count": 63,
     "metadata": {},
     "output_type": "execute_result"
    },
    {
     "data": {
      "image/png": "[encoded data removed]",
      "text/plain": [
       "<Figure size 432x288 with 1 Axes>"
      ]
     },
     "metadata": {
      "needs_background": "light"
     },
     "output_type": "display_data"
    }
   ],
   "source": [
    "data.Diameter.hist()"
   ]
  },
  {
   "cell_type": "code",
   "execution_count": 64,
   "id": "bc52edbc",
   "metadata": {},
   "outputs": [
    {
     "data": {
      "text/plain": [
       "<AxesSubplot:>"
      ]
     },
     "execution_count": 64,
     "metadata": {},
     "output_type": "execute_result"
    },
    {
     "data": {
      "image/png": "[encoded data removed]",
      "text/plain": [
       "<Figure size 432x288 with 1 Axes>"
      ]
     },
     "metadata": {
      "needs_background": "light"
     },
     "output_type": "display_data"
    }
   ],
   "source": [
    "data.Height.hist()"
   ]
  },
  {
   "cell_type": "code",
   "execution_count": 65,
   "id": "f1cbda3f",
   "metadata": {},
   "outputs": [
    {
     "data": {
      "text/plain": [
       "<AxesSubplot:>"
      ]
     },
     "execution_count": 65,
     "metadata": {},
     "output_type": "execute_result"
    },
    {
     "data": {
      "image/png": "[encoded data removed]",
      "text/plain": [
       "<Figure size 432x288 with 1 Axes>"
      ]
     },
     "metadata": {
      "needs_background": "light"
     },
     "output_type": "display_data"
    }
   ],
   "source": [
    "data.Whole_weight.hist()"
   ]
  },
  {
   "cell_type": "code",
   "execution_count": 66,
   "id": "ca197995",
   "metadata": {},
   "outputs": [
    {
     "data": {
      "text/plain": [
       "<AxesSubplot:>"
      ]
     },
     "execution_count": 66,
     "metadata": {},
     "output_type": "execute_result"
    },
    {
     "data": {
      "image/png": "[encoded data removed]",
      "text/plain": [
       "<Figure size 432x288 with 1 Axes>"
      ]
     },
     "metadata": {
      "needs_background": "light"
     },
     "output_type": "display_data"
    }
   ],
   "source": [
    "data.Shucked_weight.hist()"
   ]
  },
  {
   "cell_type": "code",
   "execution_count": 67,
   "id": "8a69d1fc",
   "metadata": {},
   "outputs": [
    {
     "data": {
      "text/plain": [
       "<AxesSubplot:>"
      ]
     },
     "execution_count": 67,
     "metadata": {},
     "output_type": "execute_result"
    },
    {
     "data": {
      "image/png": "[encoded data removed]",
      "text/plain": [
       "<Figure size 432x288 with 1 Axes>"
      ]
     },
     "metadata": {
      "needs_background": "light"
     },
     "output_type": "display_data"
    }
   ],
   "source": [
    "data.Viscera_weight.hist()"
   ]
  },
  {
   "cell_type": "code",
   "execution_count": 68,
   "id": "486ecd81",
   "metadata": {},
   "outputs": [
    {
     "data": {
      "text/plain": [
       "<AxesSubplot:>"
      ]
     },
     "execution_count": 68,
     "metadata": {},
     "output_type": "execute_result"
    },
    {
     "data": {
      "image/png": "[encoded data removed]",
      "text/plain": [
       "<Figure size 432x288 with 1 Axes>"
      ]
     },
     "metadata": {
      "needs_background": "light"
     },
     "output_type": "display_data"
    }
   ],
   "source": [
    "data.Shell_weight.hist()"
   ]
  },
  {
   "cell_type": "code",
   "execution_count": 69,
   "id": "8655b1a3",
   "metadata": {},
   "outputs": [
    {
     "data": {
      "text/plain": [
       "<AxesSubplot:>"
      ]
     },
     "execution_count": 69,
     "metadata": {},
     "output_type": "execute_result"
    },
    {
     "data": {
      "image/png": "[encoded data removed]",
      "text/plain": [
       "<Figure size 432x288 with 1 Axes>"
      ]
     },
     "metadata": {
      "needs_background": "light"
     },
     "output_type": "display_data"
    }
   ],
   "source": [
    "data.Rings.hist()"
   ]
  },
  {
   "cell_type": "markdown",
   "id": "41941926",
   "metadata": {},
   "source": [
    "<h2>4. Missing values</h2>"
   ]
  },
  {
   "cell_type": "code",
   "execution_count": 70,
   "id": "8aa98082",
   "metadata": {},
   "outputs": [
    {
     "data": {
      "text/plain": [
       "Sex               0\n",
       "Length            0\n",
       "Diameter          0\n",
       "Height            0\n",
       "Whole_weight      0\n",
       "Shucked_weight    0\n",
       "Viscera_weight    0\n",
       "Shell_weight      0\n",
       "Rings             0\n",
       "dtype: int64"
      ]
     },
     "execution_count": 70,
     "metadata": {},
     "output_type": "execute_result"
    }
   ],
   "source": [
    "data.isnull().sum()"
   ]
  },
  {
   "cell_type": "markdown",
   "id": "923bf168",
   "metadata": {},
   "source": [
    "<h2> 5.Outliers</h2>"
   ]
  },
  {
   "cell_type": "code",
   "execution_count": 71,
   "id": "88c1c00a",
   "metadata": {},
   "outputs": [
    {
     "name": "stderr",
     "output_type": "stream",
     "text": [
      "C:\\Users\\Jothy Natarajan\\AppData\\Local\\Temp\\ipykernel_12824\\3356514366.py:6: SettingWithCopyWarning: \n",
      "A value is trying to be set on a copy of a slice from a DataFrame\n",
      "\n",
      "See the caveats in the documentation: https://pandas.pydata.org/pandas-docs/stable/user_guide/indexing.html#returning-a-view-versus-a-copy\n",
      "  data.Length[data.Length>UE]=UE\n",
      "C:\\Users\\Jothy Natarajan\\AppData\\Local\\Temp\\ipykernel_12824\\3356514366.py:7: SettingWithCopyWarning: \n",
      "A value is trying to be set on a copy of a slice from a DataFrame\n",
      "\n",
      "See the caveats in the documentation: https://pandas.pydata.org/pandas-docs/stable/user_guide/indexing.html#returning-a-view-versus-a-copy\n",
      "  data.Length[data.Length<LE]=LE\n"
     ]
    }
   ],
   "source": [
    "Q1=data.Length.quantile(0.25)\n",
    "Q3=data.Length.quantile(0.75)\n",
    "IQR=Q3-Q1\n",
    "UE=Q3+1.5*(IQR)\n",
    "LE=Q1-1.5*(IQR)\n",
    "data.Length[data.Length>UE]=UE\n",
    "data.Length[data.Length<LE]=LE"
   ]
  },
  {
   "cell_type": "code",
   "execution_count": 72,
   "id": "a218dddf",
   "metadata": {
    "scrolled": true
   },
   "outputs": [
    {
     "data": {
      "text/plain": [
       "{'whiskers': [<matplotlib.lines.Line2D at 0x2b6f7e27220>,\n",
       "  <matplotlib.lines.Line2D at 0x2b6f7e27520>],\n",
       " 'caps': [<matplotlib.lines.Line2D at 0x2b6f7e277f0>,\n",
       "  <matplotlib.lines.Line2D at 0x2b6f7e27ac0>],\n",
       " 'boxes': [<matplotlib.lines.Line2D at 0x2b6f7e19f10>],\n",
       " 'medians': [<matplotlib.lines.Line2D at 0x2b6f7e27d90>],\n",
       " 'fliers': [<matplotlib.lines.Line2D at 0x2b6f7e340a0>],\n",
       " 'means': []}"
      ]
     },
     "execution_count": 72,
     "metadata": {},
     "output_type": "execute_result"
    },
    {
     "data": {
      "image/png": "[encoded data removed]",
      "text/plain": [
       "<Figure size 432x288 with 1 Axes>"
      ]
     },
     "metadata": {
      "needs_background": "light"
     },
     "output_type": "display_data"
    }
   ],
   "source": [
    "plt.boxplot(data.Length)"
   ]
  },
  {
   "cell_type": "code",
   "execution_count": 73,
   "id": "6a025ec3",
   "metadata": {},
   "outputs": [
    {
     "name": "stderr",
     "output_type": "stream",
     "text": [
      "C:\\Users\\Jothy Natarajan\\AppData\\Local\\Temp\\ipykernel_12824\\2737836973.py:6: SettingWithCopyWarning: \n",
      "A value is trying to be set on a copy of a slice from a DataFrame\n",
      "\n",
      "See the caveats in the documentation: https://pandas.pydata.org/pandas-docs/stable/user_guide/indexing.html#returning-a-view-versus-a-copy\n",
      "  data.Diameter[data.Diameter>UE]=UE\n",
      "C:\\Users\\Jothy Natarajan\\AppData\\Local\\Temp\\ipykernel_12824\\2737836973.py:7: SettingWithCopyWarning: \n",
      "A value is trying to be set on a copy of a slice from a DataFrame\n",
      "\n",
      "See the caveats in the documentation: https://pandas.pydata.org/pandas-docs/stable/user_guide/indexing.html#returning-a-view-versus-a-copy\n",
      "  data.Diameter[data.Diameter<LE]=LE\n"
     ]
    }
   ],
   "source": [
    "Q1=data.Diameter.quantile(0.25)\n",
    "Q3=data.Diameter.quantile(0.75)\n",
    "IQR=Q3-Q1\n",
    "UE=Q3+1.5*(IQR)\n",
    "LE=Q1-1.5*(IQR)\n",
    "data.Diameter[data.Diameter>UE]=UE\n",
    "data.Diameter[data.Diameter<LE]=LE"
   ]
  },
  {
   "cell_type": "code",
   "execution_count": 74,
   "id": "4d00560d",
   "metadata": {
    "scrolled": true
   },
   "outputs": [
    {
     "data": {
      "text/plain": [
       "{'whiskers': [<matplotlib.lines.Line2D at 0x2b6f7e880d0>,\n",
       "  <matplotlib.lines.Line2D at 0x2b6f7e883a0>],\n",
       " 'caps': [<matplotlib.lines.Line2D at 0x2b6f7e88670>,\n",
       "  <matplotlib.lines.Line2D at 0x2b6f7e88940>],\n",
       " 'boxes': [<matplotlib.lines.Line2D at 0x2b6f7e79d90>],\n",
       " 'medians': [<matplotlib.lines.Line2D at 0x2b6f7e88c10>],\n",
       " 'fliers': [<matplotlib.lines.Line2D at 0x2b6f7e88ee0>],\n",
       " 'means': []}"
      ]
     },
     "execution_count": 74,
     "metadata": {},
     "output_type": "execute_result"
    },
    {
     "data": {
      "image/png": "[encoded data removed]",
      "text/plain": [
       "<Figure size 432x288 with 1 Axes>"
      ]
     },
     "metadata": {
      "needs_background": "light"
     },
     "output_type": "display_data"
    }
   ],
   "source": [
    "plt.boxplot(data.Diameter)"
   ]
  },
  {
   "cell_type": "code",
   "execution_count": 75,
   "id": "65bea1db",
   "metadata": {},
   "outputs": [
    {
     "name": "stderr",
     "output_type": "stream",
     "text": [
      "C:\\Users\\Jothy Natarajan\\AppData\\Local\\Temp\\ipykernel_12824\\2763030126.py:6: SettingWithCopyWarning: \n",
      "A value is trying to be set on a copy of a slice from a DataFrame\n",
      "\n",
      "See the caveats in the documentation: https://pandas.pydata.org/pandas-docs/stable/user_guide/indexing.html#returning-a-view-versus-a-copy\n",
      "  data.Height[data.Height>UE]=UE\n",
      "C:\\Users\\Jothy Natarajan\\AppData\\Local\\Temp\\ipykernel_12824\\2763030126.py:7: SettingWithCopyWarning: \n",
      "A value is trying to be set on a copy of a slice from a DataFrame\n",
      "\n",
      "See the caveats in the documentation: https://pandas.pydata.org/pandas-docs/stable/user_guide/indexing.html#returning-a-view-versus-a-copy\n",
      "  data.Height[data.Height<LE]=LE\n"
     ]
    }
   ],
   "source": [
    "Q1=data.Height.quantile(0.25)\n",
    "Q3=data.Height.quantile(0.75)\n",
    "IQR=Q3-Q1\n",
    "UE=Q3+1.5*(IQR)\n",
    "LE=Q1-1.5*(IQR)\n",
    "data.Height[data.Height>UE]=UE\n",
    "data.Height[data.Height<LE]=LE"
   ]
  },
  {
   "cell_type": "code",
   "execution_count": 76,
   "id": "4976b911",
   "metadata": {},
   "outputs": [
    {
     "data": {
      "text/plain": [
       "{'whiskers': [<matplotlib.lines.Line2D at 0x2b6f8eb07f0>,\n",
       "  <matplotlib.lines.Line2D at 0x2b6f8eb0af0>],\n",
       " 'caps': [<matplotlib.lines.Line2D at 0x2b6f8eb0dc0>,\n",
       "  <matplotlib.lines.Line2D at 0x2b6f8ec00d0>],\n",
       " 'boxes': [<matplotlib.lines.Line2D at 0x2b6f8eb0520>],\n",
       " 'medians': [<matplotlib.lines.Line2D at 0x2b6f8ec03a0>],\n",
       " 'fliers': [<matplotlib.lines.Line2D at 0x2b6f8ec0670>],\n",
       " 'means': []}"
      ]
     },
     "execution_count": 76,
     "metadata": {},
     "output_type": "execute_result"
    },
    {
     "data": {
      "image/png": "[encoded data removed]",
      "text/plain": [
       "<Figure size 432x288 with 1 Axes>"
      ]
     },
     "metadata": {
      "needs_background": "light"
     },
     "output_type": "display_data"
    }
   ],
   "source": [
    "plt.boxplot(data.Height)"
   ]
  },
  {
   "cell_type": "code",
   "execution_count": 77,
   "id": "a914ae32",
   "metadata": {},
   "outputs": [
    {
     "name": "stderr",
     "output_type": "stream",
     "text": [
      "C:\\Users\\Jothy Natarajan\\AppData\\Local\\Temp\\ipykernel_12824\\3096764518.py:6: SettingWithCopyWarning: \n",
      "A value is trying to be set on a copy of a slice from a DataFrame\n",
      "\n",
      "See the caveats in the documentation: https://pandas.pydata.org/pandas-docs/stable/user_guide/indexing.html#returning-a-view-versus-a-copy\n",
      "  data.Whole_weight[data.Whole_weight>UE]=UE\n",
      "C:\\Users\\Jothy Natarajan\\AppData\\Local\\Temp\\ipykernel_12824\\3096764518.py:7: SettingWithCopyWarning: \n",
      "A value is trying to be set on a copy of a slice from a DataFrame\n",
      "\n",
      "See the caveats in the documentation: https://pandas.pydata.org/pandas-docs/stable/user_guide/indexing.html#returning-a-view-versus-a-copy\n",
      "  data.Whole_weight[data.Whole_weight<LE]=LE\n"
     ]
    }
   ],
   "source": [
    "Q1=data.Whole_weight.quantile(0.25)\n",
    "Q3=data.Whole_weight.quantile(0.75)\n",
    "IQR=Q3-Q1\n",
    "UE=Q3+1.5*(IQR)\n",
    "LE=Q1-1.5*(IQR)\n",
    "data.Whole_weight[data.Whole_weight>UE]=UE\n",
    "data.Whole_weight[data.Whole_weight<LE]=LE"
   ]
  },
  {
   "cell_type": "code",
   "execution_count": 78,
   "id": "ff873a71",
   "metadata": {},
   "outputs": [
    {
     "data": {
      "text/plain": [
       "{'whiskers': [<matplotlib.lines.Line2D at 0x2b6f8f1f460>,\n",
       "  <matplotlib.lines.Line2D at 0x2b6f8f1f760>],\n",
       " 'caps': [<matplotlib.lines.Line2D at 0x2b6f8f1fa30>,\n",
       "  <matplotlib.lines.Line2D at 0x2b6f8f1fd00>],\n",
       " 'boxes': [<matplotlib.lines.Line2D at 0x2b6f8f1f190>],\n",
       " 'medians': [<matplotlib.lines.Line2D at 0x2b6f8f1ffd0>],\n",
       " 'fliers': [<matplotlib.lines.Line2D at 0x2b6f8f2b2e0>],\n",
       " 'means': []}"
      ]
     },
     "execution_count": 78,
     "metadata": {},
     "output_type": "execute_result"
    },
    {
     "data": {
      "image/png": "[encoded data removed]",
      "text/plain": [
       "<Figure size 432x288 with 1 Axes>"
      ]
     },
     "metadata": {
      "needs_background": "light"
     },
     "output_type": "display_data"
    }
   ],
   "source": [
    "plt.boxplot(data.Whole_weight)"
   ]
  },
  {
   "cell_type": "code",
   "execution_count": 79,
   "id": "419a1e95",
   "metadata": {},
   "outputs": [
    {
     "name": "stderr",
     "output_type": "stream",
     "text": [
      "C:\\Users\\Jothy Natarajan\\AppData\\Local\\Temp\\ipykernel_12824\\2890993447.py:6: SettingWithCopyWarning: \n",
      "A value is trying to be set on a copy of a slice from a DataFrame\n",
      "\n",
      "See the caveats in the documentation: https://pandas.pydata.org/pandas-docs/stable/user_guide/indexing.html#returning-a-view-versus-a-copy\n",
      "  data.Shucked_weight[data.Shucked_weight>UE]=UE\n",
      "C:\\Users\\Jothy Natarajan\\AppData\\Local\\Temp\\ipykernel_12824\\2890993447.py:7: SettingWithCopyWarning: \n",
      "A value is trying to be set on a copy of a slice from a DataFrame\n",
      "\n",
      "See the caveats in the documentation: https://pandas.pydata.org/pandas-docs/stable/user_guide/indexing.html#returning-a-view-versus-a-copy\n",
      "  data.Shucked_weight[data.Shucked_weight<LE]=LE\n"
     ]
    }
   ],
   "source": [
    "Q1=data.Shucked_weight.quantile(0.25)\n",
    "Q3=data.Shucked_weight.quantile(0.75)\n",
    "IQR=Q3-Q1\n",
    "UE=Q3+1.5*(IQR)\n",
    "LE=Q1-1.5*(IQR)\n",
    "data.Shucked_weight[data.Shucked_weight>UE]=UE\n",
    "data.Shucked_weight[data.Shucked_weight<LE]=LE"
   ]
  },
  {
   "cell_type": "code",
   "execution_count": 80,
   "id": "44f2a328",
   "metadata": {},
   "outputs": [
    {
     "data": {
      "text/plain": [
       "{'whiskers': [<matplotlib.lines.Line2D at 0x2b6f8f74fa0>,\n",
       "  <matplotlib.lines.Line2D at 0x2b6f8f832b0>],\n",
       " 'caps': [<matplotlib.lines.Line2D at 0x2b6f8f83580>,\n",
       "  <matplotlib.lines.Line2D at 0x2b6f8f83850>],\n",
       " 'boxes': [<matplotlib.lines.Line2D at 0x2b6f8f74ca0>],\n",
       " 'medians': [<matplotlib.lines.Line2D at 0x2b6f8f83b20>],\n",
       " 'fliers': [<matplotlib.lines.Line2D at 0x2b6f8f83df0>],\n",
       " 'means': []}"
      ]
     },
     "execution_count": 80,
     "metadata": {},
     "output_type": "execute_result"
    },
    {
     "data": {
      "image/png": "[encoded data removed]",
      "text/plain": [
       "<Figure size 432x288 with 1 Axes>"
      ]
     },
     "metadata": {
      "needs_background": "light"
     },
     "output_type": "display_data"
    }
   ],
   "source": [
    "plt.boxplot(data.Shucked_weight)"
   ]
  },
  {
   "cell_type": "code",
   "execution_count": 81,
   "id": "f40045dd",
   "metadata": {},
   "outputs": [
    {
     "name": "stderr",
     "output_type": "stream",
     "text": [
      "C:\\Users\\Jothy Natarajan\\AppData\\Local\\Temp\\ipykernel_12824\\3200839427.py:6: SettingWithCopyWarning: \n",
      "A value is trying to be set on a copy of a slice from a DataFrame\n",
      "\n",
      "See the caveats in the documentation: https://pandas.pydata.org/pandas-docs/stable/user_guide/indexing.html#returning-a-view-versus-a-copy\n",
      "  data.Viscera_weight[data.Viscera_weight>UE]=UE\n",
      "C:\\Users\\Jothy Natarajan\\AppData\\Local\\Temp\\ipykernel_12824\\3200839427.py:7: SettingWithCopyWarning: \n",
      "A value is trying to be set on a copy of a slice from a DataFrame\n",
      "\n",
      "See the caveats in the documentation: https://pandas.pydata.org/pandas-docs/stable/user_guide/indexing.html#returning-a-view-versus-a-copy\n",
      "  data.Viscera_weight[data.Viscera_weight<LE]=LE\n"
     ]
    }
   ],
   "source": [
    "Q1=data.Viscera_weight.quantile(0.25)\n",
    "Q3=data.Viscera_weight.quantile(0.75)\n",
    "IQR=Q3-Q1\n",
    "UE=Q3+1.5*(IQR)\n",
    "LE=Q1-1.5*(IQR)\n",
    "data.Viscera_weight[data.Viscera_weight>UE]=UE\n",
    "data.Viscera_weight[data.Viscera_weight<LE]=LE"
   ]
  },
  {
   "cell_type": "code",
   "execution_count": 82,
   "id": "89ba8bb6",
   "metadata": {},
   "outputs": [
    {
     "data": {
      "text/plain": [
       "{'whiskers': [<matplotlib.lines.Line2D at 0x2b6f8fd7e80>,\n",
       "  <matplotlib.lines.Line2D at 0x2b6f8fe9190>],\n",
       " 'caps': [<matplotlib.lines.Line2D at 0x2b6f8fe9460>,\n",
       "  <matplotlib.lines.Line2D at 0x2b6f8fe9730>],\n",
       " 'boxes': [<matplotlib.lines.Line2D at 0x2b6f8fd7bb0>],\n",
       " 'medians': [<matplotlib.lines.Line2D at 0x2b6f8fe9a00>],\n",
       " 'fliers': [<matplotlib.lines.Line2D at 0x2b6f8fe9cd0>],\n",
       " 'means': []}"
      ]
     },
     "execution_count": 82,
     "metadata": {},
     "output_type": "execute_result"
    },
    {
     "data": {
      "image/png": "[encoded data removed]",
      "text/plain": [
       "<Figure size 432x288 with 1 Axes>"
      ]
     },
     "metadata": {
      "needs_background": "light"
     },
     "output_type": "display_data"
    }
   ],
   "source": [
    "plt.boxplot(data.Viscera_weight)"
   ]
  },
  {
   "cell_type": "code",
   "execution_count": 83,
   "id": "15e2e81b",
   "metadata": {},
   "outputs": [
    {
     "name": "stderr",
     "output_type": "stream",
     "text": [
      "C:\\Users\\Jothy Natarajan\\AppData\\Local\\Temp\\ipykernel_12824\\3426380620.py:6: SettingWithCopyWarning: \n",
      "A value is trying to be set on a copy of a slice from a DataFrame\n",
      "\n",
      "See the caveats in the documentation: https://pandas.pydata.org/pandas-docs/stable/user_guide/indexing.html#returning-a-view-versus-a-copy\n",
      "  data.Shell_weight[data.Shell_weight>UE]=UE\n",
      "C:\\Users\\Jothy Natarajan\\AppData\\Local\\Temp\\ipykernel_12824\\3426380620.py:7: SettingWithCopyWarning: \n",
      "A value is trying to be set on a copy of a slice from a DataFrame\n",
      "\n",
      "See the caveats in the documentation: https://pandas.pydata.org/pandas-docs/stable/user_guide/indexing.html#returning-a-view-versus-a-copy\n",
      "  data.Shell_weight[data.Shell_weight<LE]=LE\n"
     ]
    }
   ],
   "source": [
    "Q1=data.Shell_weight.quantile(0.25)\n",
    "Q3=data.Shell_weight.quantile(0.75)\n",
    "IQR=Q3-Q1\n",
    "UE=Q3+1.5*(IQR)\n",
    "LE=Q1-1.5*(IQR)\n",
    "data.Shell_weight[data.Shell_weight>UE]=UE\n",
    "data.Shell_weight[data.Shell_weight<LE]=LE"
   ]
  },
  {
   "cell_type": "code",
   "execution_count": 84,
   "id": "8403a506",
   "metadata": {},
   "outputs": [
    {
     "data": {
      "text/plain": [
       "{'whiskers': [<matplotlib.lines.Line2D at 0x2b6f903be80>,\n",
       "  <matplotlib.lines.Line2D at 0x2b6f904c190>],\n",
       " 'caps': [<matplotlib.lines.Line2D at 0x2b6f904c490>,\n",
       "  <matplotlib.lines.Line2D at 0x2b6f904c760>],\n",
       " 'boxes': [<matplotlib.lines.Line2D at 0x2b6f903bbb0>],\n",
       " 'medians': [<matplotlib.lines.Line2D at 0x2b6f904ca30>],\n",
       " 'fliers': [<matplotlib.lines.Line2D at 0x2b6f904cd00>],\n",
       " 'means': []}"
      ]
     },
     "execution_count": 84,
     "metadata": {},
     "output_type": "execute_result"
    },
    {
     "data": {
      "image/png": "[encoded data removed]",
      "text/plain": [
       "<Figure size 432x288 with 1 Axes>"
      ]
     },
     "metadata": {
      "needs_background": "light"
     },
     "output_type": "display_data"
    }
   ],
   "source": [
    "plt.boxplot(data.Shell_weight)"
   ]
  },
  {
   "cell_type": "code",
   "execution_count": 85,
   "id": "feddb3cb",
   "metadata": {},
   "outputs": [
    {
     "name": "stderr",
     "output_type": "stream",
     "text": [
      "C:\\Users\\Jothy Natarajan\\AppData\\Local\\Temp\\ipykernel_12824\\3178562733.py:6: SettingWithCopyWarning: \n",
      "A value is trying to be set on a copy of a slice from a DataFrame\n",
      "\n",
      "See the caveats in the documentation: https://pandas.pydata.org/pandas-docs/stable/user_guide/indexing.html#returning-a-view-versus-a-copy\n",
      "  data.Rings[data.Rings>UE]=UE\n"
     ]
    }
   ],
   "source": [
    "Q1=data.Rings.quantile(0.25)\n",
    "Q3=data.Rings.quantile(0.75)\n",
    "IQR=Q3-Q1\n",
    "UE=Q3+1.5*(IQR)\n",
    "LE=Q1-1.5*(IQR)\n",
    "data.Rings[data.Rings>UE]=UE\n",
    "data.Rings[data.Rings<LE]=LE"
   ]
  },
  {
   "cell_type": "code",
   "execution_count": 86,
   "id": "e8f4db4d",
   "metadata": {},
   "outputs": [
    {
     "data": {
      "text/plain": [
       "{'whiskers': [<matplotlib.lines.Line2D at 0x2b6f90ae4c0>,\n",
       "  <matplotlib.lines.Line2D at 0x2b6f90ae790>],\n",
       " 'caps': [<matplotlib.lines.Line2D at 0x2b6f90aea60>,\n",
       "  <matplotlib.lines.Line2D at 0x2b6f90aed30>],\n",
       " 'boxes': [<matplotlib.lines.Line2D at 0x2b6f90ae1c0>],\n",
       " 'medians': [<matplotlib.lines.Line2D at 0x2b6f90ba040>],\n",
       " 'fliers': [<matplotlib.lines.Line2D at 0x2b6f90ba310>],\n",
       " 'means': []}"
      ]
     },
     "execution_count": 86,
     "metadata": {},
     "output_type": "execute_result"
    },
    {
     "data": {
      "image/png": "[encoded data removed]",
      "text/plain": [
       "<Figure size 432x288 with 1 Axes>"
      ]
     },
     "metadata": {
      "needs_background": "light"
     },
     "output_type": "display_data"
    }
   ],
   "source": [
    "plt.boxplot(data.Rings)"
   ]
  },
  {
   "cell_type": "markdown",
   "id": "455358e1",
   "metadata": {},
   "source": [
    "<h3> Categorical columns and perform encoding</h3>"
   ]
  },
  {
   "cell_type": "code",
   "execution_count": 87,
   "id": "2da123d6",
   "metadata": {},
   "outputs": [],
   "source": [
    "from sklearn import preprocessing\n",
    "label_encoder = preprocessing.LabelEncoder() \n",
    "data['Sex']= label_encoder.fit_transform(data['Sex'])"
   ]
  },
  {
   "cell_type": "markdown",
   "id": "3ccc3c66",
   "metadata": {},
   "source": [
    "<h3>Splitting the data\n",
    "into dependent and independent variables</h3>"
   ]
  },
  {
   "cell_type": "code",
   "execution_count": 94,
   "id": "9d8e93cb",
   "metadata": {},
   "outputs": [],
   "source": [
    "y=data.Rings\n",
    "x=data.drop(['Rings'], axis = 1)"
   ]
  },
  {
   "cell_type": "markdown",
   "id": "3f8abefc",
   "metadata": {},
   "source": [
    "<h3> Scaling the independent variable</h3>"
   ]
  },
  {
   "cell_type": "code",
   "execution_count": 95,
   "id": "28e1b5cc",
   "metadata": {},
   "outputs": [],
   "source": [
    "from sklearn.preprocessing import MinMaxScaler\n",
    "scaler = MinMaxScaler().fit(x)\n",
    "scaled_data=scaler.transform(x)\n",
    "x= pd.DataFrame(scaled_data)"
   ]
  },
  {
   "cell_type": "code",
   "execution_count": 96,
   "id": "19fc36f2",
   "metadata": {},
   "outputs": [
    {
     "data": {
      "text/html": [
       "<div>\n",
       "<style scoped>\n",
       "    .dataframe tbody tr th:only-of-type {\n",
       "        vertical-align: middle;\n",
       "    }\n",
       "\n",
       "    .dataframe tbody tr th {\n",
       "        vertical-align: top;\n",
       "    }\n",
       "\n",
       "    .dataframe thead th {\n",
       "        text-align: right;\n",
       "    }\n",
       "</style>\n",
       "<table border=\"1\" class=\"dataframe\">\n",
       "  <thead>\n",
       "    <tr style=\"text-align: right;\">\n",
       "      <th></th>\n",
       "      <th>0</th>\n",
       "      <th>1</th>\n",
       "      <th>2</th>\n",
       "      <th>3</th>\n",
       "      <th>4</th>\n",
       "      <th>5</th>\n",
       "      <th>6</th>\n",
       "      <th>7</th>\n",
       "    </tr>\n",
       "  </thead>\n",
       "  <tbody>\n",
       "    <tr>\n",
       "      <th>0</th>\n",
       "      <td>1.0</td>\n",
       "      <td>0.412245</td>\n",
       "      <td>0.424242</td>\n",
       "      <td>0.275</td>\n",
       "      <td>0.230813</td>\n",
       "      <td>0.229231</td>\n",
       "      <td>0.204372</td>\n",
       "      <td>0.237220</td>\n",
       "    </tr>\n",
       "    <tr>\n",
       "      <th>1</th>\n",
       "      <td>1.0</td>\n",
       "      <td>0.240816</td>\n",
       "      <td>0.222222</td>\n",
       "      <td>0.250</td>\n",
       "      <td>0.100755</td>\n",
       "      <td>0.101026</td>\n",
       "      <td>0.097611</td>\n",
       "      <td>0.109425</td>\n",
       "    </tr>\n",
       "    <tr>\n",
       "      <th>2</th>\n",
       "      <td>0.0</td>\n",
       "      <td>0.534694</td>\n",
       "      <td>0.535354</td>\n",
       "      <td>0.475</td>\n",
       "      <td>0.304294</td>\n",
       "      <td>0.262051</td>\n",
       "      <td>0.286731</td>\n",
       "      <td>0.333067</td>\n",
       "    </tr>\n",
       "    <tr>\n",
       "      <th>3</th>\n",
       "      <td>1.0</td>\n",
       "      <td>0.387755</td>\n",
       "      <td>0.424242</td>\n",
       "      <td>0.425</td>\n",
       "      <td>0.231714</td>\n",
       "      <td>0.220000</td>\n",
       "      <td>0.230808</td>\n",
       "      <td>0.245208</td>\n",
       "    </tr>\n",
       "    <tr>\n",
       "      <th>4</th>\n",
       "      <td>0.5</td>\n",
       "      <td>0.208163</td>\n",
       "      <td>0.202020</td>\n",
       "      <td>0.200</td>\n",
       "      <td>0.091514</td>\n",
       "      <td>0.090769</td>\n",
       "      <td>0.079309</td>\n",
       "      <td>0.085463</td>\n",
       "    </tr>\n",
       "  </tbody>\n",
       "</table>\n",
       "</div>"
      ],
      "text/plain": [
       "     0         1         2      3         4         5         6         7\n",
       "0  1.0  0.412245  0.424242  0.275  0.230813  0.229231  0.204372  0.237220\n",
       "1  1.0  0.240816  0.222222  0.250  0.100755  0.101026  0.097611  0.109425\n",
       "2  0.0  0.534694  0.535354  0.475  0.304294  0.262051  0.286731  0.333067\n",
       "3  1.0  0.387755  0.424242  0.425  0.231714  0.220000  0.230808  0.245208\n",
       "4  0.5  0.208163  0.202020  0.200  0.091514  0.090769  0.079309  0.085463"
      ]
     },
     "execution_count": 96,
     "metadata": {},
     "output_type": "execute_result"
    }
   ],
   "source": [
    "x.head(5)"
   ]
  },
  {
   "cell_type": "markdown",
   "id": "f5d457b2",
   "metadata": {},
   "source": [
    "<h3>Splitting the data into training and testing</h3>"
   ]
  },
  {
   "cell_type": "code",
   "execution_count": 97,
   "id": "51825238",
   "metadata": {},
   "outputs": [],
   "source": [
    "x_train,x_test,y_train,y_test= train_test_split(x,y,train_size = 0.8, test_size = 0.2,random_state =42)  "
   ]
  },
  {
   "cell_type": "markdown",
   "id": "8dee94f5",
   "metadata": {},
   "source": [
    "<h3>Building and Training the Model</h3>"
   ]
  },
  {
   "cell_type": "code",
   "execution_count": 99,
   "id": "d09fa5e8",
   "metadata": {},
   "outputs": [],
   "source": [
    "#GradientBoostingRegressor\n",
    "model=GradientBoostingRegressor(n_estimators=100,max_depth=2).fit(x_train,y_train)\n",
    "y_predicted=model.predict(x_test)"
   ]
  },
  {
   "cell_type": "markdown",
   "id": "1250d732",
   "metadata": {},
   "source": [
    "<h3>Testing the Model</h3>"
   ]
  },
  {
   "cell_type": "code",
   "execution_count": 100,
   "id": "e17dd50e",
   "metadata": {},
   "outputs": [
    {
     "data": {
      "text/plain": [
       "0.6204392397518557"
      ]
     },
     "execution_count": 100,
     "metadata": {},
     "output_type": "execute_result"
    }
   ],
   "source": [
    "model.score(x_train,y_train)"
   ]
  },
  {
   "cell_type": "code",
   "execution_count": 101,
   "id": "dd7a5389",
   "metadata": {},
   "outputs": [
    {
     "data": {
      "text/plain": [
       "0.5946899497113489"
      ]
     },
     "execution_count": 101,
     "metadata": {},
     "output_type": "execute_result"
    }
   ],
   "source": [
    "model.score(x_test,y_test)"
   ]
  },
  {
   "cell_type": "code",
   "execution_count": 102,
   "id": "fb5f7f83",
   "metadata": {},
   "outputs": [
    {
     "data": {
      "text/plain": [
       "1.7798333801205748"
      ]
     },
     "execution_count": 102,
     "metadata": {},
     "output_type": "execute_result"
    }
   ],
   "source": [
    "mean_squared_error(y_test,y_predicted,squared=False)"
   ]
  }
 ],
 "metadata": {
  "kernelspec": {
   "display_name": "Python 3 (ipykernel)",
   "language": "python",
   "name": "python3"
  },
  "language_info": {
   "codemirror_mode": {
    "name": "ipython",
    "version": 3
   },
   "file_extension": ".py",
   "mimetype": "text/x-python",
   "name": "python",
   "nbconvert_exporter": "python",
   "pygments_lexer": "ipython3",
   "version": "3.9.12"
  }
 },
 "nbformat": 4,
 "nbformat_minor": 5
}
